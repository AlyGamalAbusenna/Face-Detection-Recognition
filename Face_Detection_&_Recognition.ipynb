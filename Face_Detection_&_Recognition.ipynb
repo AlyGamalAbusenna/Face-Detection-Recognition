{
  "metadata": {
    "kernelspec": {
      "language": "python",
      "display_name": "Python 3",
      "name": "python3"
    },
    "language_info": {
      "name": "python",
      "version": "3.10.14",
      "mimetype": "text/x-python",
      "codemirror_mode": {
        "name": "ipython",
        "version": 3
      },
      "pygments_lexer": "ipython3",
      "nbconvert_exporter": "python",
      "file_extension": ".py"
    },
    "kaggle": {
      "accelerator": "nvidiaTeslaT4",
      "dataSources": [
        {
          "sourceId": 992580,
          "sourceType": "datasetVersion",
          "datasetId": 543939
        },
        {
          "sourceId": 158946,
          "sourceType": "modelInstanceVersion",
          "modelInstanceId": 135100,
          "modelId": 157838
        },
        {
          "sourceId": 159248,
          "sourceType": "modelInstanceVersion",
          "isSourceIdPinned": true,
          "modelInstanceId": 135383,
          "modelId": 158106
        },
        {
          "sourceId": 159262,
          "sourceType": "modelInstanceVersion",
          "isSourceIdPinned": true,
          "modelInstanceId": 135394,
          "modelId": 158119
        }
      ],
      "dockerImageVersionId": 30787,
      "isInternetEnabled": true,
      "language": "python",
      "sourceType": "notebook",
      "isGpuEnabled": true
    },
    "colab": {
      "provenance": [],
      "include_colab_link": true
    }
  },
  "nbformat_minor": 0,
  "nbformat": 4,
  "cells": [
    {
      "cell_type": "markdown",
      "metadata": {
        "id": "view-in-github",
        "colab_type": "text"
      },
      "source": [
        "<a href=\"https://colab.research.google.com/github/AlyGamalAbusenna/Face-Detection-Recognition/blob/main/Face_Detection_%26_Recognition.ipynb\" target=\"_parent\"><img src=\"https://colab.research.google.com/assets/colab-badge.svg\" alt=\"Open In Colab\"/></a>"
      ]
    },
    {
      "cell_type": "markdown",
      "source": [
        "# **Import Libraries**"
      ],
      "metadata": {
        "id": "4M1WKyr1HrOc"
      }
    },
    {
      "cell_type": "code",
      "source": [
        "import numpy as np\n",
        "import cv2\n",
        "import os\n",
        "import matplotlib.pyplot as plt\n",
        "import tensorflow as tf\n",
        "from tensorflow.keras.applications import VGG16\n",
        "from tensorflow.keras.layers import Dense, Flatten, Dropout, GlobalAveragePooling2D\n",
        "from tensorflow.keras.models import Model\n",
        "from sklearn.model_selection import train_test_split\n",
        "from tensorflow.keras.preprocessing.image import ImageDataGenerator\n",
        "from sklearn.metrics import accuracy_score\n",
        "\n",
        "# Set seed for reproducibility\n",
        "np.random.seed(42)\n",
        "tf.random.set_seed(42)\n",
        "\n",
        "# Load Dataset from Kaggle and set paths\n",
        "data_path = '/kaggle/input/'  # Adjust path based on the Kaggle Notebook environment\n",
        "faces_path = os.path.join(data_path, 'pins-face-recognition')"
      ],
      "metadata": {
        "execution": {
          "iopub.status.busy": "2024-11-07T13:45:27.632808Z",
          "iopub.execute_input": "2024-11-07T13:45:27.633231Z",
          "iopub.status.idle": "2024-11-07T13:45:42.528726Z",
          "shell.execute_reply.started": "2024-11-07T13:45:27.633189Z",
          "shell.execute_reply": "2024-11-07T13:45:42.527800Z"
        },
        "trusted": true,
        "id": "rs1p39OjHrOe"
      },
      "execution_count": null,
      "outputs": []
    },
    {
      "cell_type": "markdown",
      "source": [
        "# **Upload the needed files**"
      ],
      "metadata": {
        "id": "R4Dfd0zsHrOg"
      }
    },
    {
      "cell_type": "code",
      "source": [
        "import requests\n",
        "\n",
        "!wget -O /kaggle/working/opencv_face_detector.pbtxt https://github.com/opencv/opencv_extra/raw/master/testdata/dnn/opencv_face_detector.pbtxt\n",
        "!wget -O /kaggle/working/opencv_face_detector_uint8.pb https://github.com/opencv/opencv_3rdparty/raw/8033c2bc31b3256f0d461c919ecc01c2428ca03b/opencv_face_detector_uint8.pb\n",
        "\n",
        "face_proto = \"/kaggle/working/opencv_face_detector.pbtxt\"\n",
        "face_model = \"/kaggle/working/opencv_face_detector_uint8.pb\"\n",
        "\n",
        "# Load Pre-trained OpenCV Face Detection Model from the local files\n",
        "net = cv2.dnn.readNetFromTensorflow(face_model, face_proto)\n",
        "\n"
      ],
      "metadata": {
        "execution": {
          "iopub.status.busy": "2024-11-07T13:45:42.530712Z",
          "iopub.execute_input": "2024-11-07T13:45:42.531405Z",
          "iopub.status.idle": "2024-11-07T13:45:46.306787Z",
          "shell.execute_reply.started": "2024-11-07T13:45:42.531358Z",
          "shell.execute_reply": "2024-11-07T13:45:46.305560Z"
        },
        "trusted": true,
        "id": "hk1IpSSvHrOg",
        "outputId": "622d66e1-ad36-43a0-9726-881c24948325"
      },
      "execution_count": null,
      "outputs": [
        {
          "name": "stderr",
          "text": "/opt/conda/lib/python3.10/pty.py:89: RuntimeWarning: os.fork() was called. os.fork() is incompatible with multithreaded code, and JAX is multithreaded, so this will likely lead to a deadlock.\n  pid, fd = os.forkpty()\n",
          "output_type": "stream"
        },
        {
          "name": "stdout",
          "text": "--2024-11-07 13:45:43--  https://github.com/opencv/opencv_extra/raw/master/testdata/dnn/opencv_face_detector.pbtxt\nResolving github.com (github.com)... 140.82.112.3\nConnecting to github.com (github.com)|140.82.112.3|:443... connected.\nHTTP request sent, awaiting response... 302 Found\nLocation: https://raw.githubusercontent.com/opencv/opencv_extra/master/testdata/dnn/opencv_face_detector.pbtxt [following]\n--2024-11-07 13:45:43--  https://raw.githubusercontent.com/opencv/opencv_extra/master/testdata/dnn/opencv_face_detector.pbtxt\nResolving raw.githubusercontent.com (raw.githubusercontent.com)... 185.199.110.133, 185.199.109.133, 185.199.108.133, ...\nConnecting to raw.githubusercontent.com (raw.githubusercontent.com)|185.199.110.133|:443... connected.\nHTTP request sent, awaiting response... 200 OK\nLength: 34975 (34K) [text/plain]\nSaving to: '/kaggle/working/opencv_face_detector.pbtxt'\n\n/kaggle/working/ope 100%[===================>]  34.16K  --.-KB/s    in 0.01s   \n\n2024-11-07 13:45:43 (3.23 MB/s) - '/kaggle/working/opencv_face_detector.pbtxt' saved [34975/34975]\n\n--2024-11-07 13:45:44--  https://github.com/opencv/opencv_3rdparty/raw/8033c2bc31b3256f0d461c919ecc01c2428ca03b/opencv_face_detector_uint8.pb\nResolving github.com (github.com)... 140.82.112.4\nConnecting to github.com (github.com)|140.82.112.4|:443... connected.\nHTTP request sent, awaiting response... 302 Found\nLocation: https://raw.githubusercontent.com/opencv/opencv_3rdparty/8033c2bc31b3256f0d461c919ecc01c2428ca03b/opencv_face_detector_uint8.pb [following]\n--2024-11-07 13:45:45--  https://raw.githubusercontent.com/opencv/opencv_3rdparty/8033c2bc31b3256f0d461c919ecc01c2428ca03b/opencv_face_detector_uint8.pb\nResolving raw.githubusercontent.com (raw.githubusercontent.com)... 185.199.111.133, 185.199.108.133, 185.199.109.133, ...\nConnecting to raw.githubusercontent.com (raw.githubusercontent.com)|185.199.111.133|:443... connected.\nHTTP request sent, awaiting response... 200 OK\nLength: 2727750 (2.6M) [application/octet-stream]\nSaving to: '/kaggle/working/opencv_face_detector_uint8.pb'\n\n/kaggle/working/ope 100%[===================>]   2.60M  --.-KB/s    in 0.08s   \n\n2024-11-07 13:45:46 (34.1 MB/s) - '/kaggle/working/opencv_face_detector_uint8.pb' saved [2727750/2727750]\n\n",
          "output_type": "stream"
        }
      ]
    },
    {
      "cell_type": "markdown",
      "source": [
        "# **Data Preprocessing**"
      ],
      "metadata": {
        "id": "lsN1vevPHrOh"
      }
    },
    {
      "cell_type": "markdown",
      "source": [
        "## ***Crop the faces in the images***"
      ],
      "metadata": {
        "id": "lVZIM66GHrOi"
      }
    },
    {
      "cell_type": "code",
      "source": [
        "# Function to detect faces using OpenCV DNN\n",
        "def detect_face(image):\n",
        "    h, w = image.shape[:2]\n",
        "    blob = cv2.dnn.blobFromImage(image, 1.0, (300, 300), [104, 117, 123], False, False)\n",
        "    net.setInput(blob)\n",
        "    detections = net.forward()\n",
        "    faces = []\n",
        "\n",
        "    for i in range(detections.shape[2]):\n",
        "        confidence = detections[0, 0, i, 2]\n",
        "        if confidence > 0.7:  # Detection confidence threshold\n",
        "            box = detections[0, 0, i, 3:7] * np.array([w, h, w, h])\n",
        "            (startX, startY, endX, endY) = box.astype(\"int\")\n",
        "            face = image[startY:endY, startX:endX]\n",
        "            faces.append(face)\n",
        "    return faces\n"
      ],
      "metadata": {
        "execution": {
          "iopub.status.busy": "2024-11-07T13:45:46.309071Z",
          "iopub.execute_input": "2024-11-07T13:45:46.309416Z",
          "iopub.status.idle": "2024-11-07T13:45:46.318395Z",
          "shell.execute_reply.started": "2024-11-07T13:45:46.309380Z",
          "shell.execute_reply": "2024-11-07T13:45:46.317196Z"
        },
        "trusted": true,
        "id": "C72ZmU3RHrOi"
      },
      "execution_count": null,
      "outputs": []
    },
    {
      "cell_type": "code",
      "source": [
        "import os\n",
        "import cv2\n",
        "\n",
        "# Define paths\n",
        "data_path = '/kaggle/input/pins-face-recognition/105_classes_pins_dataset'\n",
        "cropped_faces_dir = \"/kaggle/working/cropped_faces\"\n",
        "os.makedirs(cropped_faces_dir, exist_ok=True)\n",
        "\n",
        "# Loop through each person folder in the dataset\n",
        "for person_folder in os.listdir(data_path):\n",
        "    person_folder_path = os.path.join(data_path, person_folder)\n",
        "\n",
        "    # Ensure that the current folder path is a directory (skip non-directory files)\n",
        "    if not os.path.isdir(person_folder_path):\n",
        "        continue\n",
        "\n",
        "    # Create a directory for the current person in the output cropped faces directory\n",
        "    save_path = os.path.join(cropped_faces_dir, person_folder)\n",
        "    os.makedirs(save_path, exist_ok=True)\n",
        "\n",
        "    # Loop through all images in the person's folder\n",
        "    for image_name in os.listdir(person_folder_path):\n",
        "        image_path = os.path.join(person_folder_path, image_name)\n",
        "        image = cv2.imread(image_path)\n",
        "\n",
        "        # Check if the image was loaded successfully\n",
        "        if image is None:\n",
        "            print(f\"Warning: Could not load image {image_path}. Skipping.\")\n",
        "            continue\n",
        "\n",
        "        # Detect faces in the image\n",
        "        faces = detect_face(image)\n",
        "\n",
        "        # Save each detected face as a separate image\n",
        "        for i, face in enumerate(faces):\n",
        "            # Ensure the face has valid dimensions before saving\n",
        "            if face.shape[0] > 0 and face.shape[1] > 0:\n",
        "                cropped_face_path = os.path.join(save_path, f\"{i}_{image_name}\")\n",
        "                cv2.imwrite(cropped_face_path, face)\n"
      ],
      "metadata": {
        "execution": {
          "iopub.status.busy": "2024-11-07T13:45:46.320907Z",
          "iopub.execute_input": "2024-11-07T13:45:46.321342Z",
          "iopub.status.idle": "2024-11-07T13:55:51.089139Z",
          "shell.execute_reply.started": "2024-11-07T13:45:46.321294Z",
          "shell.execute_reply": "2024-11-07T13:55:51.088214Z"
        },
        "trusted": true,
        "id": "6Qww8jbAHrOi"
      },
      "execution_count": null,
      "outputs": []
    },
    {
      "cell_type": "markdown",
      "source": [
        "## ***Split the preprocessed data***"
      ],
      "metadata": {
        "id": "wEESdnQGHrOi"
      }
    },
    {
      "cell_type": "code",
      "source": [
        "# Splitting Dataset into Training and Validation\n",
        "train_data_path = cropped_faces_dir\n",
        "train_datagen = ImageDataGenerator(\n",
        "    rescale=1.0/255,\n",
        "    validation_split=0.2,\n",
        "    horizontal_flip=True\n",
        ")\n",
        "\n",
        "train_generator = train_datagen.flow_from_directory(\n",
        "    train_data_path,\n",
        "    target_size=(224, 224),\n",
        "    batch_size=32,\n",
        "    class_mode='categorical',\n",
        "    subset='training'\n",
        ")\n",
        "\n",
        "validation_generator = train_datagen.flow_from_directory(\n",
        "    train_data_path,\n",
        "    target_size=(224, 224),\n",
        "    batch_size=32,\n",
        "    class_mode='categorical',\n",
        "    subset='validation'\n",
        ")"
      ],
      "metadata": {
        "execution": {
          "iopub.status.busy": "2024-11-07T13:55:51.090757Z",
          "iopub.execute_input": "2024-11-07T13:55:51.091159Z",
          "iopub.status.idle": "2024-11-07T13:55:51.982424Z",
          "shell.execute_reply.started": "2024-11-07T13:55:51.091117Z",
          "shell.execute_reply": "2024-11-07T13:55:51.981119Z"
        },
        "trusted": true,
        "id": "-oJsYQXPHrOi",
        "outputId": "fd33d65e-3b8d-44f5-ed6c-4aaccf6e04f7"
      },
      "execution_count": null,
      "outputs": [
        {
          "name": "stdout",
          "text": "Found 14124 images belonging to 105 classes.\nFound 3475 images belonging to 105 classes.\n",
          "output_type": "stream"
        }
      ]
    },
    {
      "cell_type": "markdown",
      "source": [
        "## ***Load Pre-trained VGG16 Model and add some extra layeres***"
      ],
      "metadata": {
        "id": "ODPQWOCYHrOj"
      }
    },
    {
      "cell_type": "code",
      "source": [
        "base_model = VGG16(weights='imagenet', include_top=False, input_shape=(224, 224, 3))\n",
        "\n",
        "# Adding Custom Layers on top of the base model\n",
        "x = base_model.output\n",
        "x = GlobalAveragePooling2D()(x)\n",
        "x = Dense(1024, activation='relu')(x)\n",
        "x = Dropout(0.5)(x)\n",
        "x = Dense(512, activation='relu')(x)\n",
        "predictions = Dense(train_generator.num_classes, activation='softmax')(x)\n",
        "\n",
        "model = Model(inputs=base_model.input, outputs=predictions)\n"
      ],
      "metadata": {
        "execution": {
          "iopub.status.busy": "2024-11-07T13:55:51.985557Z",
          "iopub.execute_input": "2024-11-07T13:55:51.985935Z",
          "iopub.status.idle": "2024-11-07T13:55:53.728410Z",
          "shell.execute_reply.started": "2024-11-07T13:55:51.985898Z",
          "shell.execute_reply": "2024-11-07T13:55:53.727628Z"
        },
        "trusted": true,
        "id": "dL7Wutr9HrOj",
        "outputId": "98c37250-fedb-4f96-c494-5b43bb53d544"
      },
      "execution_count": null,
      "outputs": [
        {
          "name": "stdout",
          "text": "Downloading data from https://storage.googleapis.com/tensorflow/keras-applications/vgg16/vgg16_weights_tf_dim_ordering_tf_kernels_notop.h5\n\u001b[1m58889256/58889256\u001b[0m \u001b[32m━━━━━━━━━━━━━━━━━━━━\u001b[0m\u001b[37m\u001b[0m \u001b[1m0s\u001b[0m 0us/step\n",
          "output_type": "stream"
        }
      ]
    },
    {
      "cell_type": "markdown",
      "source": [
        "## ***Model Training***"
      ],
      "metadata": {
        "id": "Q07yto2iHrOj"
      }
    },
    {
      "cell_type": "code",
      "source": [
        "# Compile the model\n",
        "model.compile(optimizer=tf.keras.optimizers.Adam(learning_rate=1e-4),\n",
        "              loss='categorical_crossentropy',\n",
        "              metrics=['accuracy'])\n",
        "\n",
        "# Train the model\n",
        "history = model.fit(train_generator, validation_data=validation_generator, epochs=20)"
      ],
      "metadata": {
        "execution": {
          "iopub.status.busy": "2024-11-07T13:55:53.729680Z",
          "iopub.execute_input": "2024-11-07T13:55:53.729986Z",
          "iopub.status.idle": "2024-11-07T15:01:35.301448Z",
          "shell.execute_reply.started": "2024-11-07T13:55:53.729953Z",
          "shell.execute_reply": "2024-11-07T15:01:35.300387Z"
        },
        "trusted": true,
        "id": "mRVhAg5nHrOj",
        "outputId": "b4844c4e-1311-440f-877b-1102ad99df8d"
      },
      "execution_count": null,
      "outputs": [
        {
          "name": "stdout",
          "text": "Epoch 1/20\n",
          "output_type": "stream"
        },
        {
          "name": "stderr",
          "text": "/opt/conda/lib/python3.10/site-packages/keras/src/trainers/data_adapters/py_dataset_adapter.py:121: UserWarning: Your `PyDataset` class should call `super().__init__(**kwargs)` in its constructor. `**kwargs` can include `workers`, `use_multiprocessing`, `max_queue_size`. Do not pass these arguments to `fit()`, as they will be ignored.\n  self._warn_if_super_not_called()\nWARNING: All log messages before absl::InitializeLog() is called are written to STDERR\nI0000 00:00:1730987760.145034     123 service.cc:145] XLA service 0x7c0350010480 initialized for platform CUDA (this does not guarantee that XLA will be used). Devices:\nI0000 00:00:1730987760.145109     123 service.cc:153]   StreamExecutor device (0): Tesla T4, Compute Capability 7.5\nI0000 00:00:1730987760.145115     123 service.cc:153]   StreamExecutor device (1): Tesla T4, Compute Capability 7.5\nI0000 00:00:1730987797.100773     123 device_compiler.h:188] Compiled cluster using XLA!  This line is logged at most once for the lifetime of the process.\n",
          "output_type": "stream"
        },
        {
          "name": "stdout",
          "text": "\u001b[1m442/442\u001b[0m \u001b[32m━━━━━━━━━━━━━━━━━━━━\u001b[0m\u001b[37m\u001b[0m \u001b[1m252s\u001b[0m 477ms/step - accuracy: 0.0126 - loss: 4.6624 - val_accuracy: 0.0124 - val_loss: 4.6375\nEpoch 2/20\n\u001b[1m442/442\u001b[0m \u001b[32m━━━━━━━━━━━━━━━━━━━━\u001b[0m\u001b[37m\u001b[0m \u001b[1m199s\u001b[0m 417ms/step - accuracy: 0.0134 - loss: 4.6364 - val_accuracy: 0.0112 - val_loss: 4.6412\nEpoch 3/20\n\u001b[1m442/442\u001b[0m \u001b[32m━━━━━━━━━━━━━━━━━━━━\u001b[0m\u001b[37m\u001b[0m \u001b[1m188s\u001b[0m 425ms/step - accuracy: 0.0141 - loss: 4.5693 - val_accuracy: 0.0201 - val_loss: 4.2677\nEpoch 4/20\n\u001b[1m442/442\u001b[0m \u001b[32m━━━━━━━━━━━━━━━━━━━━\u001b[0m\u001b[37m\u001b[0m \u001b[1m188s\u001b[0m 425ms/step - accuracy: 0.0293 - loss: 4.1445 - val_accuracy: 0.0633 - val_loss: 3.7718\nEpoch 5/20\n\u001b[1m442/442\u001b[0m \u001b[32m━━━━━━━━━━━━━━━━━━━━\u001b[0m\u001b[37m\u001b[0m \u001b[1m188s\u001b[0m 425ms/step - accuracy: 0.0690 - loss: 3.7361 - val_accuracy: 0.1045 - val_loss: 3.5979\nEpoch 6/20\n\u001b[1m442/442\u001b[0m \u001b[32m━━━━━━━━━━━━━━━━━━━━\u001b[0m\u001b[37m\u001b[0m \u001b[1m188s\u001b[0m 424ms/step - accuracy: 0.1080 - loss: 3.4612 - val_accuracy: 0.1796 - val_loss: 3.1702\nEpoch 7/20\n\u001b[1m442/442\u001b[0m \u001b[32m━━━━━━━━━━━━━━━━━━━━\u001b[0m\u001b[37m\u001b[0m \u001b[1m192s\u001b[0m 435ms/step - accuracy: 0.1972 - loss: 3.0754 - val_accuracy: 0.2878 - val_loss: 2.6917\nEpoch 8/20\n\u001b[1m442/442\u001b[0m \u001b[32m━━━━━━━━━━━━━━━━━━━━\u001b[0m\u001b[37m\u001b[0m \u001b[1m194s\u001b[0m 437ms/step - accuracy: 0.2911 - loss: 2.5925 - val_accuracy: 0.3681 - val_loss: 2.3533\nEpoch 9/20\n\u001b[1m442/442\u001b[0m \u001b[32m━━━━━━━━━━━━━━━━━━━━\u001b[0m\u001b[37m\u001b[0m \u001b[1m194s\u001b[0m 438ms/step - accuracy: 0.3936 - loss: 2.2168 - val_accuracy: 0.4538 - val_loss: 2.0070\nEpoch 10/20\n\u001b[1m442/442\u001b[0m \u001b[32m━━━━━━━━━━━━━━━━━━━━\u001b[0m\u001b[37m\u001b[0m \u001b[1m194s\u001b[0m 439ms/step - accuracy: 0.4779 - loss: 1.8369 - val_accuracy: 0.4797 - val_loss: 1.9417\nEpoch 11/20\n\u001b[1m442/442\u001b[0m \u001b[32m━━━━━━━━━━━━━━━━━━━━\u001b[0m\u001b[37m\u001b[0m \u001b[1m194s\u001b[0m 438ms/step - accuracy: 0.5612 - loss: 1.5424 - val_accuracy: 0.5649 - val_loss: 1.5916\nEpoch 12/20\n\u001b[1m442/442\u001b[0m \u001b[32m━━━━━━━━━━━━━━━━━━━━\u001b[0m\u001b[37m\u001b[0m \u001b[1m195s\u001b[0m 440ms/step - accuracy: 0.6184 - loss: 1.3080 - val_accuracy: 0.6098 - val_loss: 1.4655\nEpoch 13/20\n\u001b[1m442/442\u001b[0m \u001b[32m━━━━━━━━━━━━━━━━━━━━\u001b[0m\u001b[37m\u001b[0m \u001b[1m195s\u001b[0m 440ms/step - accuracy: 0.6840 - loss: 1.0980 - val_accuracy: 0.6383 - val_loss: 1.3803\nEpoch 14/20\n\u001b[1m442/442\u001b[0m \u001b[32m━━━━━━━━━━━━━━━━━━━━\u001b[0m\u001b[37m\u001b[0m \u001b[1m195s\u001b[0m 441ms/step - accuracy: 0.7238 - loss: 0.9454 - val_accuracy: 0.6647 - val_loss: 1.3010\nEpoch 15/20\n\u001b[1m442/442\u001b[0m \u001b[32m━━━━━━━━━━━━━━━━━━━━\u001b[0m\u001b[37m\u001b[0m \u001b[1m198s\u001b[0m 446ms/step - accuracy: 0.7521 - loss: 0.8258 - val_accuracy: 0.6875 - val_loss: 1.2082\nEpoch 16/20\n\u001b[1m442/442\u001b[0m \u001b[32m━━━━━━━━━━━━━━━━━━━━\u001b[0m\u001b[37m\u001b[0m \u001b[1m197s\u001b[0m 445ms/step - accuracy: 0.7972 - loss: 0.6885 - val_accuracy: 0.6866 - val_loss: 1.1758\nEpoch 17/20\n\u001b[1m442/442\u001b[0m \u001b[32m━━━━━━━━━━━━━━━━━━━━\u001b[0m\u001b[37m\u001b[0m \u001b[1m198s\u001b[0m 446ms/step - accuracy: 0.8200 - loss: 0.5970 - val_accuracy: 0.7111 - val_loss: 1.1049\nEpoch 18/20\n\u001b[1m442/442\u001b[0m \u001b[32m━━━━━━━━━━━━━━━━━━━━\u001b[0m\u001b[37m\u001b[0m \u001b[1m197s\u001b[0m 446ms/step - accuracy: 0.8414 - loss: 0.5104 - val_accuracy: 0.7039 - val_loss: 1.2546\nEpoch 19/20\n\u001b[1m442/442\u001b[0m \u001b[32m━━━━━━━━━━━━━━━━━━━━\u001b[0m\u001b[37m\u001b[0m \u001b[1m197s\u001b[0m 446ms/step - accuracy: 0.8660 - loss: 0.4353 - val_accuracy: 0.7358 - val_loss: 1.0094\nEpoch 20/20\n\u001b[1m442/442\u001b[0m \u001b[32m━━━━━━━━━━━━━━━━━━━━\u001b[0m\u001b[37m\u001b[0m \u001b[1m197s\u001b[0m 445ms/step - accuracy: 0.8819 - loss: 0.3947 - val_accuracy: 0.7407 - val_loss: 1.0618\n",
          "output_type": "stream"
        }
      ]
    },
    {
      "cell_type": "markdown",
      "source": [
        "## ***Model Evaluation***"
      ],
      "metadata": {
        "id": "VHvB7ROIHrOk"
      }
    },
    {
      "cell_type": "code",
      "source": [
        "# Evaluate the model\n",
        "val_loss, val_acc = model.evaluate(validation_generator)\n",
        "print(f\"Validation Accuracy: {val_acc * 100:.2f}%\")\n",
        "\n",
        "# Plotting training and validation accuracy for visualization\n",
        "plt.plot(history.history['accuracy'], label='Training Accuracy')\n",
        "plt.plot(history.history['val_accuracy'], label='Validation Accuracy')\n",
        "plt.xlabel('Epochs')\n",
        "plt.ylabel('Accuracy')\n",
        "plt.legend()\n",
        "plt.show()"
      ],
      "metadata": {
        "execution": {
          "iopub.status.busy": "2024-11-07T15:01:35.303098Z",
          "iopub.execute_input": "2024-11-07T15:01:35.303510Z",
          "iopub.status.idle": "2024-11-07T15:01:49.918203Z",
          "shell.execute_reply.started": "2024-11-07T15:01:35.303467Z",
          "shell.execute_reply": "2024-11-07T15:01:49.917266Z"
        },
        "trusted": true,
        "id": "woEQ2hBzHrOk",
        "outputId": "eede6381-dd86-4715-b5ea-46d4279f5c52"
      },
      "execution_count": null,
      "outputs": [
        {
          "name": "stdout",
          "text": "\u001b[1m109/109\u001b[0m \u001b[32m━━━━━━━━━━━━━━━━━━━━\u001b[0m\u001b[37m\u001b[0m \u001b[1m14s\u001b[0m 130ms/step - accuracy: 0.7369 - loss: 1.0575\nValidation Accuracy: 73.50%\n",
          "output_type": "stream"
        },
        {
          "output_type": "display_data",
          "data": {
            "text/plain": "<Figure size 640x480 with 1 Axes>",
            "image/png": "[encoded data removed]"
          },
          "metadata": {}
        }
      ]
    },
    {
      "cell_type": "code",
      "source": [
        "# Plotting training and validation loss for visualization\n",
        "plt.plot(history.history['loss'], label='Training Accuracy')\n",
        "plt.plot(history.history['val_loss'], label='Validation Accuracy')\n",
        "plt.xlabel('Epochs')\n",
        "plt.ylabel('Loss')\n",
        "plt.legend()\n",
        "plt.show()"
      ],
      "metadata": {
        "execution": {
          "iopub.status.busy": "2024-11-07T15:02:10.274552Z",
          "iopub.execute_input": "2024-11-07T15:02:10.274973Z",
          "iopub.status.idle": "2024-11-07T15:02:10.471210Z",
          "shell.execute_reply.started": "2024-11-07T15:02:10.274936Z",
          "shell.execute_reply": "2024-11-07T15:02:10.470365Z"
        },
        "trusted": true,
        "id": "DrJQ06WUHrOk",
        "outputId": "90f540c1-c41d-4457-b164-2694270886b8"
      },
      "execution_count": null,
      "outputs": [
        {
          "output_type": "display_data",
          "data": {
            "text/plain": "<Figure size 640x480 with 1 Axes>",
            "image/png": "[encoded data removed]"
          },
          "metadata": {}
        }
      ]
    },
    {
      "cell_type": "code",
      "source": [
        "model.save('face_recognition_model.h5')"
      ],
      "metadata": {
        "id": "su0wJbObHrOk"
      },
      "execution_count": null,
      "outputs": []
    },
    {
      "cell_type": "markdown",
      "source": [
        "## ***Detect the Not Identify Images***"
      ],
      "metadata": {
        "id": "FKIvysUGHrOk"
      }
    },
    {
      "cell_type": "code",
      "source": [
        "import random\n",
        "\n",
        "# Cosine similarity function\n",
        "def cosine_similarity(face_embedding1, face_embedding2):\n",
        "    dot_product = np.dot(face_embedding1, face_embedding2)\n",
        "    norm_a = np.linalg.norm(face_embedding1)\n",
        "    norm_b = np.linalg.norm(face_embedding2)\n",
        "    return dot_product / (norm_a * norm_b)\n",
        "\n",
        "# Extract face embeddings using the trained model\n",
        "def get_face_embedding(model, image_path):\n",
        "    image = cv2.imread(image_path)\n",
        "    image = cv2.resize(image, (224, 224))\n",
        "    image = image / 255.0  # Normalize the image\n",
        "    image = np.expand_dims(image, axis=0)  # Add batch dimension\n",
        "    embedding_model = tf.keras.Model(inputs=model.input, outputs=model.layers[-2].output)  # Use the second last layer for embeddings\n",
        "    embedding = embedding_model.predict(image)\n",
        "    return embedding.flatten()\n",
        "\n",
        "# Predict the class of an unknown image\n",
        "def predict_class(model, image_path):\n",
        "    image = cv2.imread(image_path)\n",
        "    image = cv2.resize(image, (224, 224))\n",
        "    image = image / 255.0  # Normalize the image\n",
        "    image = np.expand_dims(image, axis=0)  # Add batch dimension\n",
        "    predictions = model.predict(image)\n",
        "    predicted_class_index = np.argmax(predictions)\n",
        "    predicted_class = list(train_generator.class_indices.keys())[predicted_class_index]\n",
        "    return predicted_class\n",
        "\n",
        "# Function to classify a new face\n",
        "def classify_face(model, unknown_image_path, known_embeddings_dir, threshold=0.80, num_samples=30):\n",
        "    # Step 1: Predict the class of the unknown image\n",
        "    predicted_class = predict_class(model, unknown_image_path)\n",
        "    print(f\"Predicted Class: {predicted_class}\")\n",
        "\n",
        "    # Step 2: Extract embedding of the unknown image\n",
        "    unknown_embedding = get_face_embedding(model, unknown_image_path)\n",
        "\n",
        "    # Step 3: Extract embeddings of multiple images from the predicted class and calculate cosine similarities\n",
        "    predicted_class_path = os.path.join(known_embeddings_dir, predicted_class)\n",
        "    class_images = os.listdir(predicted_class_path)\n",
        "\n",
        "    # Select a random subset of images from the predicted class\n",
        "    if len(class_images) > num_samples:\n",
        "        class_images = random.sample(class_images, num_samples)\n",
        "\n",
        "    # Calculate cosine similarity for each selected image\n",
        "    similarities = []\n",
        "    for img_file in class_images:\n",
        "        img_path = os.path.join(predicted_class_path, img_file)\n",
        "        known_embedding = get_face_embedding(model, img_path)\n",
        "        similarity = cosine_similarity(unknown_embedding, known_embedding)\n",
        "        similarities.append(similarity)\n",
        "\n",
        "    # Compute the average cosine similarity\n",
        "    average_similarity = np.mean(similarities)\n",
        "\n",
        "    # Step 4: Decide if the face is from the predicted class\n",
        "    if average_similarity > threshold:\n",
        "        return predicted_class\n",
        "    else:\n",
        "        return \"not identified\"\n"
      ],
      "metadata": {
        "execution": {
          "iopub.status.busy": "2024-11-07T16:54:31.741145Z",
          "iopub.execute_input": "2024-11-07T16:54:31.741950Z",
          "iopub.status.idle": "2024-11-07T16:54:31.755726Z",
          "shell.execute_reply.started": "2024-11-07T16:54:31.741909Z",
          "shell.execute_reply": "2024-11-07T16:54:31.754780Z"
        },
        "trusted": true,
        "id": "Mez5D9R5HrOk"
      },
      "execution_count": null,
      "outputs": []
    },
    {
      "cell_type": "code",
      "source": [
        "# Example usages:\n",
        "\n",
        "# Classify the known face of Zac Efron :\n",
        "result = classify_face(model, \"/kaggle/input/known/keras/default/1/face_Zac Efron2_1687.jpg\", train_data_path)\n",
        "print(result)\n",
        "print(\"-------------------------------\")\n",
        "\n",
        "# Classify the known face Zendaya :\n",
        "result = classify_face(model, \"/kaggle/input/known/keras/default/1/face_Zendaya22_1857.jpg\", train_data_path)\n",
        "print(result)\n",
        "print(\"-------------------------------\")\n",
        "\n",
        "\n",
        "\n",
        "# Classify the unknown face 1:\n",
        "result = classify_face(model, \"/kaggle/input/pic/keras/default/1/adel_emam2.jpeg\", train_data_path)\n",
        "print(\"Adel Emam-->\",result)\n",
        "print(\"-------------------------------\")\n",
        "\n",
        "\n",
        "# Classify the unknown face 2:\n",
        "result = classify_face(model, \"/kaggle/input/pic/keras/default/1/koshary.jpeg\", train_data_path)\n",
        "print(\"Fatma Koshary-->\",result)\n",
        "print(\"-------------------------------\")\n",
        "\n",
        "\n"
      ],
      "metadata": {
        "execution": {
          "iopub.status.busy": "2024-11-07T16:54:55.948968Z",
          "iopub.execute_input": "2024-11-07T16:54:55.949336Z",
          "iopub.status.idle": "2024-11-07T16:55:54.259462Z",
          "shell.execute_reply.started": "2024-11-07T16:54:55.949301Z",
          "shell.execute_reply": "2024-11-07T16:55:54.258450Z"
        },
        "trusted": true,
        "id": "4kiD-ymxHrOl",
        "outputId": "9ebf9657-6149-463a-a9d6-4e1ca9814222"
      },
      "execution_count": null,
      "outputs": [
        {
          "name": "stdout",
          "text": "\u001b[1m1/1\u001b[0m \u001b[32m━━━━━━━━━━━━━━━━━━━━\u001b[0m\u001b[37m\u001b[0m \u001b[1m0s\u001b[0m 19ms/step\nPredicted Class: pins_Zac Efron\n\u001b[1m1/1\u001b[0m \u001b[32m━━━━━━━━━━━━━━━━━━━━\u001b[0m\u001b[37m\u001b[0m \u001b[1m0s\u001b[0m 405ms/step\n\u001b[1m1/1\u001b[0m \u001b[32m━━━━━━━━━━━━━━━━━━━━\u001b[0m\u001b[37m\u001b[0m \u001b[1m0s\u001b[0m 389ms/step\n\u001b[1m1/1\u001b[0m \u001b[32m━━━━━━━━━━━━━━━━━━━━\u001b[0m\u001b[37m\u001b[0m \u001b[1m0s\u001b[0m 398ms/step\n\u001b[1m1/1\u001b[0m \u001b[32m━━━━━━━━━━━━━━━━━━━━\u001b[0m\u001b[37m\u001b[0m \u001b[1m0s\u001b[0m 398ms/step\n\u001b[1m1/1\u001b[0m \u001b[32m━━━━━━━━━━━━━━━━━━━━\u001b[0m\u001b[37m\u001b[0m \u001b[1m0s\u001b[0m 395ms/step\n\u001b[1m1/1\u001b[0m \u001b[32m━━━━━━━━━━━━━━━━━━━━\u001b[0m\u001b[37m\u001b[0m \u001b[1m0s\u001b[0m 395ms/step\n\u001b[1m1/1\u001b[0m \u001b[32m━━━━━━━━━━━━━━━━━━━━\u001b[0m\u001b[37m\u001b[0m \u001b[1m0s\u001b[0m 400ms/step\n\u001b[1m1/1\u001b[0m \u001b[32m━━━━━━━━━━━━━━━━━━━━\u001b[0m\u001b[37m\u001b[0m \u001b[1m0s\u001b[0m 402ms/step\n\u001b[1m1/1\u001b[0m \u001b[32m━━━━━━━━━━━━━━━━━━━━\u001b[0m\u001b[37m\u001b[0m \u001b[1m0s\u001b[0m 393ms/step\n\u001b[1m1/1\u001b[0m \u001b[32m━━━━━━━━━━━━━━━━━━━━\u001b[0m\u001b[37m\u001b[0m \u001b[1m0s\u001b[0m 399ms/step\n\u001b[1m1/1\u001b[0m \u001b[32m━━━━━━━━━━━━━━━━━━━━\u001b[0m\u001b[37m\u001b[0m \u001b[1m0s\u001b[0m 393ms/step\n\u001b[1m1/1\u001b[0m \u001b[32m━━━━━━━━━━━━━━━━━━━━\u001b[0m\u001b[37m\u001b[0m \u001b[1m0s\u001b[0m 399ms/step\n\u001b[1m1/1\u001b[0m \u001b[32m━━━━━━━━━━━━━━━━━━━━\u001b[0m\u001b[37m\u001b[0m \u001b[1m0s\u001b[0m 406ms/step\n\u001b[1m1/1\u001b[0m \u001b[32m━━━━━━━━━━━━━━━━━━━━\u001b[0m\u001b[37m\u001b[0m \u001b[1m0s\u001b[0m 385ms/step\n\u001b[1m1/1\u001b[0m \u001b[32m━━━━━━━━━━━━━━━━━━━━\u001b[0m\u001b[37m\u001b[0m \u001b[1m0s\u001b[0m 396ms/step\n\u001b[1m1/1\u001b[0m \u001b[32m━━━━━━━━━━━━━━━━━━━━\u001b[0m\u001b[37m\u001b[0m \u001b[1m0s\u001b[0m 394ms/step\n\u001b[1m1/1\u001b[0m \u001b[32m━━━━━━━━━━━━━━━━━━━━\u001b[0m\u001b[37m\u001b[0m \u001b[1m0s\u001b[0m 391ms/step\n\u001b[1m1/1\u001b[0m \u001b[32m━━━━━━━━━━━━━━━━━━━━\u001b[0m\u001b[37m\u001b[0m \u001b[1m0s\u001b[0m 403ms/step\n\u001b[1m1/1\u001b[0m \u001b[32m━━━━━━━━━━━━━━━━━━━━\u001b[0m\u001b[37m\u001b[0m \u001b[1m0s\u001b[0m 397ms/step\n\u001b[1m1/1\u001b[0m \u001b[32m━━━━━━━━━━━━━━━━━━━━\u001b[0m\u001b[37m\u001b[0m \u001b[1m0s\u001b[0m 399ms/step\n\u001b[1m1/1\u001b[0m \u001b[32m━━━━━━━━━━━━━━━━━━━━\u001b[0m\u001b[37m\u001b[0m \u001b[1m0s\u001b[0m 403ms/step\n\u001b[1m1/1\u001b[0m \u001b[32m━━━━━━━━━━━━━━━━━━━━\u001b[0m\u001b[37m\u001b[0m \u001b[1m0s\u001b[0m 397ms/step\n\u001b[1m1/1\u001b[0m \u001b[32m━━━━━━━━━━━━━━━━━━━━\u001b[0m\u001b[37m\u001b[0m \u001b[1m0s\u001b[0m 406ms/step\n\u001b[1m1/1\u001b[0m \u001b[32m━━━━━━━━━━━━━━━━━━━━\u001b[0m\u001b[37m\u001b[0m \u001b[1m0s\u001b[0m 399ms/step\n\u001b[1m1/1\u001b[0m \u001b[32m━━━━━━━━━━━━━━━━━━━━\u001b[0m\u001b[37m\u001b[0m \u001b[1m0s\u001b[0m 406ms/step\n\u001b[1m1/1\u001b[0m \u001b[32m━━━━━━━━━━━━━━━━━━━━\u001b[0m\u001b[37m\u001b[0m \u001b[1m0s\u001b[0m 399ms/step\n\u001b[1m1/1\u001b[0m \u001b[32m━━━━━━━━━━━━━━━━━━━━\u001b[0m\u001b[37m\u001b[0m \u001b[1m0s\u001b[0m 403ms/step\n\u001b[1m1/1\u001b[0m \u001b[32m━━━━━━━━━━━━━━━━━━━━\u001b[0m\u001b[37m\u001b[0m \u001b[1m0s\u001b[0m 394ms/step\n\u001b[1m1/1\u001b[0m \u001b[32m━━━━━━━━━━━━━━━━━━━━\u001b[0m\u001b[37m\u001b[0m \u001b[1m0s\u001b[0m 391ms/step\n\u001b[1m1/1\u001b[0m \u001b[32m━━━━━━━━━━━━━━━━━━━━\u001b[0m\u001b[37m\u001b[0m \u001b[1m0s\u001b[0m 420ms/step\n\u001b[1m1/1\u001b[0m \u001b[32m━━━━━━━━━━━━━━━━━━━━\u001b[0m\u001b[37m\u001b[0m \u001b[1m0s\u001b[0m 395ms/step\npins_Zac Efron\n-------------------------------\n\u001b[1m1/1\u001b[0m \u001b[32m━━━━━━━━━━━━━━━━━━━━\u001b[0m\u001b[37m\u001b[0m \u001b[1m0s\u001b[0m 20ms/step\nPredicted Class: pins_Zendaya\n\u001b[1m1/1\u001b[0m \u001b[32m━━━━━━━━━━━━━━━━━━━━\u001b[0m\u001b[37m\u001b[0m \u001b[1m0s\u001b[0m 418ms/step\n\u001b[1m1/1\u001b[0m \u001b[32m━━━━━━━━━━━━━━━━━━━━\u001b[0m\u001b[37m\u001b[0m \u001b[1m0s\u001b[0m 399ms/step\n\u001b[1m1/1\u001b[0m \u001b[32m━━━━━━━━━━━━━━━━━━━━\u001b[0m\u001b[37m\u001b[0m \u001b[1m0s\u001b[0m 429ms/step\n\u001b[1m1/1\u001b[0m \u001b[32m━━━━━━━━━━━━━━━━━━━━\u001b[0m\u001b[37m\u001b[0m \u001b[1m0s\u001b[0m 409ms/step\n\u001b[1m1/1\u001b[0m \u001b[32m━━━━━━━━━━━━━━━━━━━━\u001b[0m\u001b[37m\u001b[0m \u001b[1m0s\u001b[0m 387ms/step\n\u001b[1m1/1\u001b[0m \u001b[32m━━━━━━━━━━━━━━━━━━━━\u001b[0m\u001b[37m\u001b[0m \u001b[1m0s\u001b[0m 391ms/step\n\u001b[1m1/1\u001b[0m \u001b[32m━━━━━━━━━━━━━━━━━━━━\u001b[0m\u001b[37m\u001b[0m \u001b[1m0s\u001b[0m 410ms/step\n\u001b[1m1/1\u001b[0m \u001b[32m━━━━━━━━━━━━━━━━━━━━\u001b[0m\u001b[37m\u001b[0m \u001b[1m0s\u001b[0m 407ms/step\n\u001b[1m1/1\u001b[0m \u001b[32m━━━━━━━━━━━━━━━━━━━━\u001b[0m\u001b[37m\u001b[0m \u001b[1m0s\u001b[0m 424ms/step\n\u001b[1m1/1\u001b[0m \u001b[32m━━━━━━━━━━━━━━━━━━━━\u001b[0m\u001b[37m\u001b[0m \u001b[1m0s\u001b[0m 405ms/step\n\u001b[1m1/1\u001b[0m \u001b[32m━━━━━━━━━━━━━━━━━━━━\u001b[0m\u001b[37m\u001b[0m \u001b[1m0s\u001b[0m 404ms/step\n\u001b[1m1/1\u001b[0m \u001b[32m━━━━━━━━━━━━━━━━━━━━\u001b[0m\u001b[37m\u001b[0m \u001b[1m0s\u001b[0m 384ms/step\n\u001b[1m1/1\u001b[0m \u001b[32m━━━━━━━━━━━━━━━━━━━━\u001b[0m\u001b[37m\u001b[0m \u001b[1m0s\u001b[0m 405ms/step\n\u001b[1m1/1\u001b[0m \u001b[32m━━━━━━━━━━━━━━━━━━━━\u001b[0m\u001b[37m\u001b[0m \u001b[1m0s\u001b[0m 391ms/step\n\u001b[1m1/1\u001b[0m \u001b[32m━━━━━━━━━━━━━━━━━━━━\u001b[0m\u001b[37m\u001b[0m \u001b[1m0s\u001b[0m 393ms/step\n\u001b[1m1/1\u001b[0m \u001b[32m━━━━━━━━━━━━━━━━━━━━\u001b[0m\u001b[37m\u001b[0m \u001b[1m0s\u001b[0m 389ms/step\n\u001b[1m1/1\u001b[0m \u001b[32m━━━━━━━━━━━━━━━━━━━━\u001b[0m\u001b[37m\u001b[0m \u001b[1m0s\u001b[0m 381ms/step\n\u001b[1m1/1\u001b[0m \u001b[32m━━━━━━━━━━━━━━━━━━━━\u001b[0m\u001b[37m\u001b[0m \u001b[1m0s\u001b[0m 389ms/step\n\u001b[1m1/1\u001b[0m \u001b[32m━━━━━━━━━━━━━━━━━━━━\u001b[0m\u001b[37m\u001b[0m \u001b[1m0s\u001b[0m 384ms/step\n\u001b[1m1/1\u001b[0m \u001b[32m━━━━━━━━━━━━━━━━━━━━\u001b[0m\u001b[37m\u001b[0m \u001b[1m0s\u001b[0m 393ms/step\n\u001b[1m1/1\u001b[0m \u001b[32m━━━━━━━━━━━━━━━━━━━━\u001b[0m\u001b[37m\u001b[0m \u001b[1m0s\u001b[0m 382ms/step\n\u001b[1m1/1\u001b[0m \u001b[32m━━━━━━━━━━━━━━━━━━━━\u001b[0m\u001b[37m\u001b[0m \u001b[1m0s\u001b[0m 397ms/step\n\u001b[1m1/1\u001b[0m \u001b[32m━━━━━━━━━━━━━━━━━━━━\u001b[0m\u001b[37m\u001b[0m \u001b[1m0s\u001b[0m 384ms/step\n\u001b[1m1/1\u001b[0m \u001b[32m━━━━━━━━━━━━━━━━━━━━\u001b[0m\u001b[37m\u001b[0m \u001b[1m0s\u001b[0m 384ms/step\n\u001b[1m1/1\u001b[0m \u001b[32m━━━━━━━━━━━━━━━━━━━━\u001b[0m\u001b[37m\u001b[0m \u001b[1m0s\u001b[0m 396ms/step\n\u001b[1m1/1\u001b[0m \u001b[32m━━━━━━━━━━━━━━━━━━━━\u001b[0m\u001b[37m\u001b[0m \u001b[1m0s\u001b[0m 415ms/step\n\u001b[1m1/1\u001b[0m \u001b[32m━━━━━━━━━━━━━━━━━━━━\u001b[0m\u001b[37m\u001b[0m \u001b[1m0s\u001b[0m 392ms/step\n\u001b[1m1/1\u001b[0m \u001b[32m━━━━━━━━━━━━━━━━━━━━\u001b[0m\u001b[37m\u001b[0m \u001b[1m0s\u001b[0m 381ms/step\n\u001b[1m1/1\u001b[0m \u001b[32m━━━━━━━━━━━━━━━━━━━━\u001b[0m\u001b[37m\u001b[0m \u001b[1m0s\u001b[0m 383ms/step\n\u001b[1m1/1\u001b[0m \u001b[32m━━━━━━━━━━━━━━━━━━━━\u001b[0m\u001b[37m\u001b[0m \u001b[1m0s\u001b[0m 383ms/step\n\u001b[1m1/1\u001b[0m \u001b[32m━━━━━━━━━━━━━━━━━━━━\u001b[0m\u001b[37m\u001b[0m \u001b[1m0s\u001b[0m 386ms/step\npins_Zendaya\n-------------------------------\n\u001b[1m1/1\u001b[0m \u001b[32m━━━━━━━━━━━━━━━━━━━━\u001b[0m\u001b[37m\u001b[0m \u001b[1m0s\u001b[0m 19ms/step\nPredicted Class: pins_Wentworth Miller\n\u001b[1m1/1\u001b[0m \u001b[32m━━━━━━━━━━━━━━━━━━━━\u001b[0m\u001b[37m\u001b[0m \u001b[1m0s\u001b[0m 391ms/step\n\u001b[1m1/1\u001b[0m \u001b[32m━━━━━━━━━━━━━━━━━━━━\u001b[0m\u001b[37m\u001b[0m \u001b[1m0s\u001b[0m 382ms/step\n\u001b[1m1/1\u001b[0m \u001b[32m━━━━━━━━━━━━━━━━━━━━\u001b[0m\u001b[37m\u001b[0m \u001b[1m0s\u001b[0m 387ms/step\n\u001b[1m1/1\u001b[0m \u001b[32m━━━━━━━━━━━━━━━━━━━━\u001b[0m\u001b[37m\u001b[0m \u001b[1m0s\u001b[0m 384ms/step\n\u001b[1m1/1\u001b[0m \u001b[32m━━━━━━━━━━━━━━━━━━━━\u001b[0m\u001b[37m\u001b[0m \u001b[1m0s\u001b[0m 393ms/step\n\u001b[1m1/1\u001b[0m \u001b[32m━━━━━━━━━━━━━━━━━━━━\u001b[0m\u001b[37m\u001b[0m \u001b[1m0s\u001b[0m 380ms/step\n\u001b[1m1/1\u001b[0m \u001b[32m━━━━━━━━━━━━━━━━━━━━\u001b[0m\u001b[37m\u001b[0m \u001b[1m0s\u001b[0m 383ms/step\n\u001b[1m1/1\u001b[0m \u001b[32m━━━━━━━━━━━━━━━━━━━━\u001b[0m\u001b[37m\u001b[0m \u001b[1m0s\u001b[0m 387ms/step\n\u001b[1m1/1\u001b[0m \u001b[32m━━━━━━━━━━━━━━━━━━━━\u001b[0m\u001b[37m\u001b[0m \u001b[1m0s\u001b[0m 385ms/step\n\u001b[1m1/1\u001b[0m \u001b[32m━━━━━━━━━━━━━━━━━━━━\u001b[0m\u001b[37m\u001b[0m \u001b[1m0s\u001b[0m 382ms/step\n\u001b[1m1/1\u001b[0m \u001b[32m━━━━━━━━━━━━━━━━━━━━\u001b[0m\u001b[37m\u001b[0m \u001b[1m0s\u001b[0m 383ms/step\n\u001b[1m1/1\u001b[0m \u001b[32m━━━━━━━━━━━━━━━━━━━━\u001b[0m\u001b[37m\u001b[0m \u001b[1m0s\u001b[0m 390ms/step\n\u001b[1m1/1\u001b[0m \u001b[32m━━━━━━━━━━━━━━━━━━━━\u001b[0m\u001b[37m\u001b[0m \u001b[1m0s\u001b[0m 396ms/step\n\u001b[1m1/1\u001b[0m \u001b[32m━━━━━━━━━━━━━━━━━━━━\u001b[0m\u001b[37m\u001b[0m \u001b[1m0s\u001b[0m 394ms/step\n\u001b[1m1/1\u001b[0m \u001b[32m━━━━━━━━━━━━━━━━━━━━\u001b[0m\u001b[37m\u001b[0m \u001b[1m0s\u001b[0m 389ms/step\n\u001b[1m1/1\u001b[0m \u001b[32m━━━━━━━━━━━━━━━━━━━━\u001b[0m\u001b[37m\u001b[0m \u001b[1m0s\u001b[0m 386ms/step\n\u001b[1m1/1\u001b[0m \u001b[32m━━━━━━━━━━━━━━━━━━━━\u001b[0m\u001b[37m\u001b[0m \u001b[1m0s\u001b[0m 391ms/step\n\u001b[1m1/1\u001b[0m \u001b[32m━━━━━━━━━━━━━━━━━━━━\u001b[0m\u001b[37m\u001b[0m \u001b[1m0s\u001b[0m 409ms/step\n\u001b[1m1/1\u001b[0m \u001b[32m━━━━━━━━━━━━━━━━━━━━\u001b[0m\u001b[37m\u001b[0m \u001b[1m0s\u001b[0m 380ms/step\n\u001b[1m1/1\u001b[0m \u001b[32m━━━━━━━━━━━━━━━━━━━━\u001b[0m\u001b[37m\u001b[0m \u001b[1m0s\u001b[0m 392ms/step\n\u001b[1m1/1\u001b[0m \u001b[32m━━━━━━━━━━━━━━━━━━━━\u001b[0m\u001b[37m\u001b[0m \u001b[1m0s\u001b[0m 384ms/step\n\u001b[1m1/1\u001b[0m \u001b[32m━━━━━━━━━━━━━━━━━━━━\u001b[0m\u001b[37m\u001b[0m \u001b[1m0s\u001b[0m 388ms/step\n\u001b[1m1/1\u001b[0m \u001b[32m━━━━━━━━━━━━━━━━━━━━\u001b[0m\u001b[37m\u001b[0m \u001b[1m0s\u001b[0m 386ms/step\n\u001b[1m1/1\u001b[0m \u001b[32m━━━━━━━━━━━━━━━━━━━━\u001b[0m\u001b[37m\u001b[0m \u001b[1m0s\u001b[0m 384ms/step\n\u001b[1m1/1\u001b[0m \u001b[32m━━━━━━━━━━━━━━━━━━━━\u001b[0m\u001b[37m\u001b[0m \u001b[1m0s\u001b[0m 398ms/step\n\u001b[1m1/1\u001b[0m \u001b[32m━━━━━━━━━━━━━━━━━━━━\u001b[0m\u001b[37m\u001b[0m \u001b[1m0s\u001b[0m 383ms/step\n\u001b[1m1/1\u001b[0m \u001b[32m━━━━━━━━━━━━━━━━━━━━\u001b[0m\u001b[37m\u001b[0m \u001b[1m0s\u001b[0m 401ms/step\n\u001b[1m1/1\u001b[0m \u001b[32m━━━━━━━━━━━━━━━━━━━━\u001b[0m\u001b[37m\u001b[0m \u001b[1m0s\u001b[0m 387ms/step\n\u001b[1m1/1\u001b[0m \u001b[32m━━━━━━━━━━━━━━━━━━━━\u001b[0m\u001b[37m\u001b[0m \u001b[1m0s\u001b[0m 384ms/step\n\u001b[1m1/1\u001b[0m \u001b[32m━━━━━━━━━━━━━━━━━━━━\u001b[0m\u001b[37m\u001b[0m \u001b[1m0s\u001b[0m 391ms/step\n\u001b[1m1/1\u001b[0m \u001b[32m━━━━━━━━━━━━━━━━━━━━\u001b[0m\u001b[37m\u001b[0m \u001b[1m0s\u001b[0m 381ms/step\nAdel Emam--> not identified\n-------------------------------\n\u001b[1m1/1\u001b[0m \u001b[32m━━━━━━━━━━━━━━━━━━━━\u001b[0m\u001b[37m\u001b[0m \u001b[1m0s\u001b[0m 18ms/step\nPredicted Class: pins_Selena Gomez\n\u001b[1m1/1\u001b[0m \u001b[32m━━━━━━━━━━━━━━━━━━━━\u001b[0m\u001b[37m\u001b[0m \u001b[1m0s\u001b[0m 404ms/step\n\u001b[1m1/1\u001b[0m \u001b[32m━━━━━━━━━━━━━━━━━━━━\u001b[0m\u001b[37m\u001b[0m \u001b[1m0s\u001b[0m 385ms/step\n\u001b[1m1/1\u001b[0m \u001b[32m━━━━━━━━━━━━━━━━━━━━\u001b[0m\u001b[37m\u001b[0m \u001b[1m1s\u001b[0m 1s/step\n\u001b[1m1/1\u001b[0m \u001b[32m━━━━━━━━━━━━━━━━━━━━\u001b[0m\u001b[37m\u001b[0m \u001b[1m0s\u001b[0m 445ms/step\n\u001b[1m1/1\u001b[0m \u001b[32m━━━━━━━━━━━━━━━━━━━━\u001b[0m\u001b[37m\u001b[0m \u001b[1m0s\u001b[0m 444ms/step\n\u001b[1m1/1\u001b[0m \u001b[32m━━━━━━━━━━━━━━━━━━━━\u001b[0m\u001b[37m\u001b[0m \u001b[1m0s\u001b[0m 472ms/step\n\u001b[1m1/1\u001b[0m \u001b[32m━━━━━━━━━━━━━━━━━━━━\u001b[0m\u001b[37m\u001b[0m \u001b[1m0s\u001b[0m 466ms/step\n\u001b[1m1/1\u001b[0m \u001b[32m━━━━━━━━━━━━━━━━━━━━\u001b[0m\u001b[37m\u001b[0m \u001b[1m0s\u001b[0m 455ms/step\n\u001b[1m1/1\u001b[0m \u001b[32m━━━━━━━━━━━━━━━━━━━━\u001b[0m\u001b[37m\u001b[0m \u001b[1m0s\u001b[0m 446ms/step\n\u001b[1m1/1\u001b[0m \u001b[32m━━━━━━━━━━━━━━━━━━━━\u001b[0m\u001b[37m\u001b[0m \u001b[1m0s\u001b[0m 429ms/step\n\u001b[1m1/1\u001b[0m \u001b[32m━━━━━━━━━━━━━━━━━━━━\u001b[0m\u001b[37m\u001b[0m \u001b[1m0s\u001b[0m 441ms/step\n\u001b[1m1/1\u001b[0m \u001b[32m━━━━━━━━━━━━━━━━━━━━\u001b[0m\u001b[37m\u001b[0m \u001b[1m0s\u001b[0m 433ms/step\n\u001b[1m1/1\u001b[0m \u001b[32m━━━━━━━━━━━━━━━━━━━━\u001b[0m\u001b[37m\u001b[0m \u001b[1m0s\u001b[0m 457ms/step\n\u001b[1m1/1\u001b[0m \u001b[32m━━━━━━━━━━━━━━━━━━━━\u001b[0m\u001b[37m\u001b[0m \u001b[1m0s\u001b[0m 451ms/step\n\u001b[1m1/1\u001b[0m \u001b[32m━━━━━━━━━━━━━━━━━━━━\u001b[0m\u001b[37m\u001b[0m \u001b[1m0s\u001b[0m 467ms/step\n\u001b[1m1/1\u001b[0m \u001b[32m━━━━━━━━━━━━━━━━━━━━\u001b[0m\u001b[37m\u001b[0m \u001b[1m0s\u001b[0m 437ms/step\n\u001b[1m1/1\u001b[0m \u001b[32m━━━━━━━━━━━━━━━━━━━━\u001b[0m\u001b[37m\u001b[0m \u001b[1m0s\u001b[0m 424ms/step\n\u001b[1m1/1\u001b[0m \u001b[32m━━━━━━━━━━━━━━━━━━━━\u001b[0m\u001b[37m\u001b[0m \u001b[1m0s\u001b[0m 439ms/step\n\u001b[1m1/1\u001b[0m \u001b[32m━━━━━━━━━━━━━━━━━━━━\u001b[0m\u001b[37m\u001b[0m \u001b[1m0s\u001b[0m 426ms/step\n\u001b[1m1/1\u001b[0m \u001b[32m━━━━━━━━━━━━━━━━━━━━\u001b[0m\u001b[37m\u001b[0m \u001b[1m0s\u001b[0m 427ms/step\n\u001b[1m1/1\u001b[0m \u001b[32m━━━━━━━━━━━━━━━━━━━━\u001b[0m\u001b[37m\u001b[0m \u001b[1m0s\u001b[0m 419ms/step\n\u001b[1m1/1\u001b[0m \u001b[32m━━━━━━━━━━━━━━━━━━━━\u001b[0m\u001b[37m\u001b[0m \u001b[1m0s\u001b[0m 414ms/step\n\u001b[1m1/1\u001b[0m \u001b[32m━━━━━━━━━━━━━━━━━━━━\u001b[0m\u001b[37m\u001b[0m \u001b[1m0s\u001b[0m 422ms/step\n\u001b[1m1/1\u001b[0m \u001b[32m━━━━━━━━━━━━━━━━━━━━\u001b[0m\u001b[37m\u001b[0m \u001b[1m0s\u001b[0m 411ms/step\n\u001b[1m1/1\u001b[0m \u001b[32m━━━━━━━━━━━━━━━━━━━━\u001b[0m\u001b[37m\u001b[0m \u001b[1m0s\u001b[0m 422ms/step\n\u001b[1m1/1\u001b[0m \u001b[32m━━━━━━━━━━━━━━━━━━━━\u001b[0m\u001b[37m\u001b[0m \u001b[1m0s\u001b[0m 422ms/step\n\u001b[1m1/1\u001b[0m \u001b[32m━━━━━━━━━━━━━━━━━━━━\u001b[0m\u001b[37m\u001b[0m \u001b[1m0s\u001b[0m 443ms/step\n\u001b[1m1/1\u001b[0m \u001b[32m━━━━━━━━━━━━━━━━━━━━\u001b[0m\u001b[37m\u001b[0m \u001b[1m0s\u001b[0m 412ms/step\n\u001b[1m1/1\u001b[0m \u001b[32m━━━━━━━━━━━━━━━━━━━━\u001b[0m\u001b[37m\u001b[0m \u001b[1m0s\u001b[0m 413ms/step\n\u001b[1m1/1\u001b[0m \u001b[32m━━━━━━━━━━━━━━━━━━━━\u001b[0m\u001b[37m\u001b[0m \u001b[1m0s\u001b[0m 430ms/step\n\u001b[1m1/1\u001b[0m \u001b[32m━━━━━━━━━━━━━━━━━━━━\u001b[0m\u001b[37m\u001b[0m \u001b[1m0s\u001b[0m 420ms/step\nFatma Koshary--> not identified\n-------------------------------\n",
          "output_type": "stream"
        }
      ]
    },
    {
      "cell_type": "markdown",
      "source": [
        "# **Bonus**"
      ],
      "metadata": {
        "id": "YxSvHZAUHrOl"
      }
    },
    {
      "cell_type": "markdown",
      "source": [
        "## ***Applying Live Face Detection and Recognetion***\n",
        "### ***Note to run this you must run it localy to acess the webcam***"
      ],
      "metadata": {
        "id": "NP6eUzS6HrOl"
      }
    },
    {
      "cell_type": "code",
      "source": [
        "python live_face_recognition.py\n",
        "\n",
        "def live_face_recognition(model, known_embeddings_dir, threshold=0.75, num_samples=20):\n",
        "    # Load OpenCV's pre-trained face detector\n",
        "    face_net = cv2.dnn.readNetFromTensorflow(\"opencv_face_detector_uint8.pb\", \"opencv_face_detector.pbtxt\")\n",
        "\n",
        "    # Start webcam feed\n",
        "    cap = cv2.VideoCapture(0)\n",
        "\n",
        "    while True:\n",
        "        ret, frame = cap.read()\n",
        "        if not ret:\n",
        "            break\n",
        "\n",
        "        # Step 1: Detect faces in the frame\n",
        "        h, w = frame.shape[:2]\n",
        "        blob = cv2.dnn.blobFromImage(frame, 1.0, (300, 300), (104.0, 177.0, 123.0))\n",
        "        face_net.setInput(blob)\n",
        "        detections = face_net.forward()\n",
        "\n",
        "        # Step 2: Loop through the detected faces\n",
        "        for i in range(detections.shape[2]):\n",
        "            confidence = detections[0, 0, i, 2]\n",
        "            if confidence > 0.5:\n",
        "                box = detections[0, 0, i, 3:7] * np.array([w, h, w, h])\n",
        "                (startX, startY, endX, endY) = box.astype(\"int\")\n",
        "\n",
        "                # Step 3: Extract the face from the frame\n",
        "                face = frame[startY:endY, startX:endX]\n",
        "\n",
        "                if face.shape[0] > 0 and face.shape[1] > 0:\n",
        "                    # Step 4: Predict the class of the face\n",
        "                    predicted_class = predict_class(model, face)\n",
        "\n",
        "                    # Step 5: Extract embedding of the face and classify using cosine similarity\n",
        "                    unknown_embedding = get_face_embedding(model, face)\n",
        "                    result = classify_face(unknown_embedding, predicted_class, known_embeddings_dir, threshold, num_samples)\n",
        "\n",
        "                    # Step 6: Draw the bounding box and label on the frame\n",
        "                    label = f\"{result}: {confidence*100:.2f}%\"\n",
        "                    cv2.rectangle(frame, (startX, startY), (endX, endY), (0, 255, 0), 2)\n",
        "                    cv2.putText(frame, label, (startX, startY - 10), cv2.FONT_HERSHEY_SIMPLEX, 0.8, (0, 255, 0), 2)\n",
        "\n",
        "        # Step 7: Display the video feed with the recognized faces\n",
        "        cv2.imshow(\"Live Face Recognition\", frame)\n",
        "\n",
        "        # Break the loop with the 'q' key\n",
        "        if cv2.waitKey(1) & 0xFF == ord('q'):\n",
        "            break\n",
        "\n",
        "    # Release the video capture and close windows\n",
        "    cap.release()\n",
        "    cv2.destroyAllWindows()\n",
        "\n",
        "# Example usage\n",
        "live_face_recognition(model, train_data_path)"
      ],
      "metadata": {
        "id": "qHO2odKzHrOl"
      },
      "execution_count": null,
      "outputs": []
    }
  ]
}